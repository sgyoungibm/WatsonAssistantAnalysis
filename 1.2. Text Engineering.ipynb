{
    "nbformat_minor": 1, 
    "cells": [
        {
            "source": "# Text Engineering\n\nWe are going to use some techniques to find rare terms to increase coverage and effectivness.\n\nThe first technique is the same from the \"Exploring and Processing\" notebook: Reduce text and then analyze.", 
            "cell_type": "markdown", 
            "metadata": {
                "collapsed": true
            }
        }, 
        {
            "source": "import pandas as pd\nfrom sklearn.metrics import confusion_matrix\nimport numpy as np\nfrom collections import OrderedDict\nfrom IPython.display import Markdown as md\nimport re\nimport ast", 
            "cell_type": "code", 
            "execution_count": 1, 
            "outputs": [], 
            "metadata": {}
        }, 
        {
            "source": "# The following code contains the credentials for a file in your IBM Cloud Object Storage.\n# You might want to remove those credentials before you share your notebook.\n\n#These are dummy values for example:\n\ncredentials = {\n    'IAM_SERVICE_ID': 'iam-ServiceId-1340asfdasdfavno',\n    'IBM_API_KEY_ID': 'apikeyapikeyapikeyapikeyapikeyapikeyapikey',\n    'ENDPOINT': 'https://s3-api.us-geo.objectstorage.service.networklayer.com',\n    'IBM_AUTH_ENDPOINT': 'https://iam.ng.bluemix.net/oidc/token',\n    'BUCKET': 'watsonassistantaugmentedanalytics-donotdelete-pr-asdfafasdfasfasd'\n}", 
            "cell_type": "code", 
            "execution_count": 2, 
            "outputs": [], 
            "metadata": {}
        }, 
        {
            "source": "# DOWNLOAD THE FILE\nfrom ibm_botocore.client import Config\nimport ibm_boto3\n\ndef download_file_cos(credentials,local_file_name,key):  \n    cos = ibm_boto3.client(service_name='s3',\n    ibm_api_key_id=credentials['IBM_API_KEY_ID'],\n    ibm_service_instance_id=credentials['IAM_SERVICE_ID'],\n    ibm_auth_endpoint=credentials['IBM_AUTH_ENDPOINT'],\n    config=Config(signature_version='oauth'),\n    endpoint_url=credentials['ENDPOINT'])\n    try:\n        res=cos.download_file(Bucket=credentials['BUCKET'],Key=key,Filename=local_file_name)\n    except Exception as e:\n        print(Exception, e)\n    else:\n        print('File Downloaded')", 
            "cell_type": "code", 
            "execution_count": 3, 
            "outputs": [], 
            "metadata": {}
        }, 
        {
            "source": "download_file_cos(credentials,'annotation.xlsx','All.xlsx')\nannotation_file = 'annotation.xlsx'", 
            "cell_type": "code", 
            "execution_count": 4, 
            "outputs": [
                {
                    "output_type": "stream", 
                    "name": "stdout", 
                    "text": "File Downloaded\n"
                }
            ], 
            "metadata": {}
        }, 
        {
            "source": "column_list = [\n    '',\n    'log_id',\n    'conversation_id',\n    'timestamp',\n    'customer_id',\n    'utterance_text',\n    'response_text',\n    'top_intent',\n    'top_confidence',\n    'intent_2',\n    'intent_2_confidence',\n    'confidence_gap',\n    'intent_3',\n    'intent_3_confidence',\n    'entities',\n    'is_escalated',\n    'is_convered',\n    'not_convered_cause',\n    'dialog_flow',\n    'dialog_stack',\n    'dialog_request_counter',\n    'dialog_turn_counter',\n    'correctness',\n    'helpfulness',\n    'root_cause',\n    'correct_intent',\n    'new_intent',\n    'add_train',\n    'missed_entity',\n    'new_entity',\n    'new_entity_value',\n    'new_dialog_logic',\n    'wrong_dialog_node',\n    'no_dialog_node_triggered'\n]\n\nannotated_data = pd.read_excel(annotation_file, sheet_name='Not_Covered', names=column_list)", 
            "cell_type": "code", 
            "execution_count": 5, 
            "outputs": [], 
            "metadata": {}
        }, 
        {
            "source": "### Convert to Lowercase", 
            "cell_type": "markdown", 
            "metadata": {}
        }, 
        {
            "source": "annotated_data['utterance_text'] = annotated_data['utterance_text'].apply(lambda x: \" \".join(x.lower()for x in x.split()))", 
            "cell_type": "code", 
            "execution_count": 6, 
            "outputs": [], 
            "metadata": {}
        }, 
        {
            "source": "### Correct Spelling", 
            "cell_type": "markdown", 
            "metadata": {}
        }, 
        {
            "source": "#Install textblob library\n!pip install textblob", 
            "cell_type": "code", 
            "execution_count": 7, 
            "outputs": [
                {
                    "output_type": "stream", 
                    "name": "stdout", 
                    "text": "Requirement already satisfied: textblob in /opt/conda/envs/Python36/lib/python3.6/site-packages (0.15.3)\r\nRequirement already satisfied: nltk>=3.1 in /opt/conda/envs/Python36/lib/python3.6/site-packages (from textblob) (3.4)\r\nRequirement already satisfied: six in /opt/conda/envs/Python36/lib/python3.6/site-packages (from nltk>=3.1->textblob) (1.12.0)\r\nRequirement already satisfied: singledispatch in /opt/conda/envs/Python36/lib/python3.6/site-packages (from nltk>=3.1->textblob) (3.4.0.3)\r\n"
                }
            ], 
            "metadata": {}
        }, 
        {
            "source": "#import libraries and use 'correct' function\nfrom textblob import TextBlob\nannotated_data['utterance_text'].apply(lambda x: str(TextBlob(x).correct()))", 
            "cell_type": "code", 
            "execution_count": 8, 
            "outputs": [
                {
                    "execution_count": 8, 
                    "output_type": "execute_result", 
                    "data": {
                        "text/plain": "0          how do i start the process for child support?\n1                                       contact numbers?\n2                                       contact numbers?\n3                                        contact numbers\n4                                       contact numbers?\n5                                         how can i pay?\n6      what if the mother is not sure who the father is?\n7                            i can't hear over the phone\n8                                         where are you?\n9      can a parent take custody of the child instead...\n10     can any other agency handle child support enfo...\n11     i have some child support issues, but i am dea...\n12                           can i pay with credit card?\n13                                           i need a in\n14                                   i can't login to si\n15                                do you accept plastic?\n16                                are you a real person?\n17                                   you dont take apex?\n18                                      can i pay online\n19                          i want to contest my payment\n20                                          how to login\n21                                         child support\n22                                        pay with apex?\n23                            what if i dont want to pay\n24                                             need help\n25                                             need help\n26                                             need help\n27                                                   his\n28                                                  help\n29                                       need person now\n                             ...                        \n163                                  what are your hours\n164                                         how do i pay\n165                    my spouse won't pay child support\n166                                      what can you do\n167                                        child support\n168                                          pay by mail\n169                                                 1234\n170       how do i get started on child support process?\n171    i'm about to get a divorce. how do i determine...\n172                                     how do i contact\n173                               where are you located?\n174    i'm getting a divorce. what will i owe in chil...\n175            i am divorced. how do i know if i qualify\n176                   what is the age minimum to qualify\n177           how do tank recipients seek child support?\n178                          can i pay with credit card?\n179                                       how can i pay?\n180                                        i can't login\n181                                    hello who are you\n182                            what determines paternity\n183                          where can i find an office?\n184                              what region are you at?\n185    i have some child support issues, but i am dea...\n186                               where are you located?\n187                                       where are you?\n188    what if a person no longer wants the office of...\n189    i have some child support issues, but i am dea...\n190                                              garrett\n191                          can i talk to a live agent?\n192                              what office is near me?\nName: utterance_text, Length: 193, dtype: object"
                    }, 
                    "metadata": {}
                }
            ], 
            "metadata": {}
        }, 
        {
            "source": "### Remove Punctuation", 
            "cell_type": "markdown", 
            "metadata": {}
        }, 
        {
            "source": "annotated_data['utterance_text'] = annotated_data['utterance_text'].str.replace('[^\\w\\s]',\"\")\nannotated_data['utterance_text'].head(3)                                                               ", 
            "cell_type": "code", 
            "execution_count": 9, 
            "outputs": [
                {
                    "execution_count": 9, 
                    "output_type": "execute_result", 
                    "data": {
                        "text/plain": "0    how do i start the process for child support\n1                                 contact numbers\n2                                 contact numbers\nName: utterance_text, dtype: object"
                    }, 
                    "metadata": {}
                }
            ], 
            "metadata": {}
        }, 
        {
            "source": "### Remove Stop Words", 
            "cell_type": "markdown", 
            "metadata": {}
        }, 
        {
            "source": "import nltk\nfrom nltk.corpus import stopwords\nnltk.download('stopwords')", 
            "cell_type": "code", 
            "execution_count": 10, 
            "outputs": [
                {
                    "output_type": "stream", 
                    "name": "stderr", 
                    "text": "[nltk_data] Downloading package stopwords to\n[nltk_data]     /home/dsxuser/nltk_data...\n[nltk_data]   Package stopwords is already up-to-date!\n"
                }, 
                {
                    "execution_count": 10, 
                    "output_type": "execute_result", 
                    "data": {
                        "text/plain": "True"
                    }, 
                    "metadata": {}
                }
            ], 
            "metadata": {}
        }, 
        {
            "source": "stop = stopwords.words('english')\nannotated_data['utterance_text'] = annotated_data['utterance_text'].apply(lambda x: \" \".join(x for x in x.split() if x not in stop))", 
            "cell_type": "code", 
            "execution_count": 11, 
            "outputs": [], 
            "metadata": {}
        }, 
        {
            "source": "annotated_data['utterance_text'].head(5)", 
            "cell_type": "code", 
            "execution_count": 12, 
            "outputs": [
                {
                    "execution_count": 12, 
                    "output_type": "execute_result", 
                    "data": {
                        "text/plain": "0    start process child support\n1                contact numbers\n2                contact numbers\n3                contact numbers\n4                contact numbers\nName: utterance_text, dtype: object"
                    }, 
                    "metadata": {}
                }
            ], 
            "metadata": {}
        }, 
        {
            "source": "#When you don't have a library\n!pip install textblob", 
            "cell_type": "code", 
            "execution_count": 13, 
            "outputs": [
                {
                    "output_type": "stream", 
                    "name": "stdout", 
                    "text": "Requirement already satisfied: textblob in /opt/conda/envs/Python36/lib/python3.6/site-packages (0.15.3)\nRequirement already satisfied: nltk>=3.1 in /opt/conda/envs/Python36/lib/python3.6/site-packages (from textblob) (3.4)\nRequirement already satisfied: six in /opt/conda/envs/Python36/lib/python3.6/site-packages (from nltk>=3.1->textblob) (1.12.0)\nRequirement already satisfied: singledispatch in /opt/conda/envs/Python36/lib/python3.6/site-packages (from nltk>=3.1->textblob) (3.4.0.3)\n"
                }
            ], 
            "metadata": {}
        }, 
        {
            "source": "#Import library\nfrom textblob import Word\n\nimport nltk\nnltk.download('wordnet')\nnltk.download('punkt')", 
            "cell_type": "code", 
            "execution_count": 14, 
            "outputs": [
                {
                    "output_type": "stream", 
                    "name": "stderr", 
                    "text": "[nltk_data] Downloading package wordnet to /home/dsxuser/nltk_data...\n[nltk_data]   Package wordnet is already up-to-date!\n[nltk_data] Downloading package punkt to /home/dsxuser/nltk_data...\n[nltk_data]   Package punkt is already up-to-date!\n"
                }, 
                {
                    "execution_count": 14, 
                    "output_type": "execute_result", 
                    "data": {
                        "text/plain": "True"
                    }, 
                    "metadata": {}
                }
            ], 
            "metadata": {}
        }, 
        {
            "source": "### Lemmatizing", 
            "cell_type": "markdown", 
            "metadata": {}
        }, 
        {
            "source": "annotated_data_lem = annotated_data['utterance_text'].apply(lambda x: \" \".join([Word(word).lemmatize() for word in x.split()]))", 
            "cell_type": "code", 
            "execution_count": 15, 
            "outputs": [], 
            "metadata": {}
        }, 
        {
            "source": "#Install textblob library\n!pip install textblob", 
            "cell_type": "code", 
            "execution_count": 16, 
            "outputs": [
                {
                    "output_type": "stream", 
                    "name": "stdout", 
                    "text": "Requirement already satisfied: textblob in /opt/conda/envs/Python36/lib/python3.6/site-packages (0.15.3)\r\nRequirement already satisfied: nltk>=3.1 in /opt/conda/envs/Python36/lib/python3.6/site-packages (from textblob) (3.4)\r\nRequirement already satisfied: six in /opt/conda/envs/Python36/lib/python3.6/site-packages (from nltk>=3.1->textblob) (1.12.0)\r\nRequirement already satisfied: singledispatch in /opt/conda/envs/Python36/lib/python3.6/site-packages (from nltk>=3.1->textblob) (3.4.0.3)\r\n"
                }
            ], 
            "metadata": {}
        }, 
        {
            "source": "### Generate N-Gram\n\nWe don't go very far with N-Grams in this notebook, however, future versions may include a predictive altogrithm.", 
            "cell_type": "markdown", 
            "metadata": {}
        }, 
        {
            "source": "from textblob import TextBlob", 
            "cell_type": "code", 
            "execution_count": 17, 
            "outputs": [], 
            "metadata": {}
        }, 
        {
            "source": "df_annotated_data_lem = pd.DataFrame(data=annotated_data_lem)\nwords = ' '.join(df_annotated_data_lem['utterance_text'].tolist())", 
            "cell_type": "code", 
            "execution_count": 18, 
            "outputs": [], 
            "metadata": {}
        }, 
        {
            "source": "words", 
            "cell_type": "code", 
            "execution_count": 19, 
            "outputs": [
                {
                    "execution_count": 19, 
                    "output_type": "execute_result", 
                    "data": {
                        "text/plain": "'start process child support contact number contact number contact number contact number pay mother sure father cant hear phone  parent take custody child instead making child support payment agency handle child support enforcement case child support issue deaf go communicating attorney general office pay credit card need cin cant login csi accept plastic real person dont take amex pay online want contest payment login child support pay amex dont want pay need help need help need help hiba help need person need help many licensing agency involved 3456 find office located payment accept talk live assistant garrett complete acknowledgment paternity form live assistant wont able hear phone 1234 ken paxton live assistant live person garrett located want talk person live assistant zahra pay mail accept plastic accept bank note 1234 talk live assistant garrett cant login csi office help havent received child support pay cash located hour document needed office attorney general child support issue deaf go communicating attorney general office person longer want office attorney general service im deaf contact type license usually suspended child support changed need volunteer garrett live agent hour located located hour helen hour father live texas located late payment requirement located payment accept pay credit garrett get pin pay accept plastic accept bank note contact need cin cant login csi accept bank note need help child support interactive  determines paternity child support issue deaf go communicating attorney general office information office attorney general need locate noncustodial parent child support issue deaf go communicating attorney general office contact number whats child support contact number contact number contact number  contact number pay mail contact number child support issue deaf child support issue deaf go communicating attorney general office open live assistant please long payment begin open payment accept live agent accept bank note pay need help child support interactive hour  accept plastic pay need help child support interactive cant login csi accept bank note pay credit card cant login csi cant hear phone live agent apply child support service fee pay installment log dont want live agent want talk ken paxton hour dont want pay want come person zahra need help want real person zahra pay amex sam azhar pay child support live agent pay cash cant hear phon located dont want pay want contest paymebt dont want pay bill want contest payment live assistant live assistatnt login payment accept pay pay credit card cant hear phone need contact child support hour pay spouse wont pay child support  child support pay mail 1234 get started child support process im get divorce determine need pay child support contact located im getting divorce owe child support divorced know qualify age minimum qualify tanf recipient seek child support pay credit card pay cant login hello determines paternity find office region child support issue deaf go communicating attorney general office located  person longer want office attorney general service child support issue deaf go communicating attorney general office garrett talk live agent office near'"
                    }, 
                    "metadata": {}
                }
            ], 
            "metadata": {}
        }, 
        {
            "source": "TextBlob(words).ngrams(3)", 
            "cell_type": "code", 
            "execution_count": 20, 
            "outputs": [
                {
                    "execution_count": 20, 
                    "output_type": "execute_result", 
                    "data": {
                        "text/plain": "[WordList(['start', 'process', 'child']),\n WordList(['process', 'child', 'support']),\n WordList(['child', 'support', 'contact']),\n WordList(['support', 'contact', 'number']),\n WordList(['contact', 'number', 'contact']),\n WordList(['number', 'contact', 'number']),\n WordList(['contact', 'number', 'contact']),\n WordList(['number', 'contact', 'number']),\n WordList(['contact', 'number', 'contact']),\n WordList(['number', 'contact', 'number']),\n WordList(['contact', 'number', 'pay']),\n WordList(['number', 'pay', 'mother']),\n WordList(['pay', 'mother', 'sure']),\n WordList(['mother', 'sure', 'father']),\n WordList(['sure', 'father', 'cant']),\n WordList(['father', 'cant', 'hear']),\n WordList(['cant', 'hear', 'phone']),\n WordList(['hear', 'phone', 'parent']),\n WordList(['phone', 'parent', 'take']),\n WordList(['parent', 'take', 'custody']),\n WordList(['take', 'custody', 'child']),\n WordList(['custody', 'child', 'instead']),\n WordList(['child', 'instead', 'making']),\n WordList(['instead', 'making', 'child']),\n WordList(['making', 'child', 'support']),\n WordList(['child', 'support', 'payment']),\n WordList(['support', 'payment', 'agency']),\n WordList(['payment', 'agency', 'handle']),\n WordList(['agency', 'handle', 'child']),\n WordList(['handle', 'child', 'support']),\n WordList(['child', 'support', 'enforcement']),\n WordList(['support', 'enforcement', 'case']),\n WordList(['enforcement', 'case', 'child']),\n WordList(['case', 'child', 'support']),\n WordList(['child', 'support', 'issue']),\n WordList(['support', 'issue', 'deaf']),\n WordList(['issue', 'deaf', 'go']),\n WordList(['deaf', 'go', 'communicating']),\n WordList(['go', 'communicating', 'attorney']),\n WordList(['communicating', 'attorney', 'general']),\n WordList(['attorney', 'general', 'office']),\n WordList(['general', 'office', 'pay']),\n WordList(['office', 'pay', 'credit']),\n WordList(['pay', 'credit', 'card']),\n WordList(['credit', 'card', 'need']),\n WordList(['card', 'need', 'cin']),\n WordList(['need', 'cin', 'cant']),\n WordList(['cin', 'cant', 'login']),\n WordList(['cant', 'login', 'csi']),\n WordList(['login', 'csi', 'accept']),\n WordList(['csi', 'accept', 'plastic']),\n WordList(['accept', 'plastic', 'real']),\n WordList(['plastic', 'real', 'person']),\n WordList(['real', 'person', 'dont']),\n WordList(['person', 'dont', 'take']),\n WordList(['dont', 'take', 'amex']),\n WordList(['take', 'amex', 'pay']),\n WordList(['amex', 'pay', 'online']),\n WordList(['pay', 'online', 'want']),\n WordList(['online', 'want', 'contest']),\n WordList(['want', 'contest', 'payment']),\n WordList(['contest', 'payment', 'login']),\n WordList(['payment', 'login', 'child']),\n WordList(['login', 'child', 'support']),\n WordList(['child', 'support', 'pay']),\n WordList(['support', 'pay', 'amex']),\n WordList(['pay', 'amex', 'dont']),\n WordList(['amex', 'dont', 'want']),\n WordList(['dont', 'want', 'pay']),\n WordList(['want', 'pay', 'need']),\n WordList(['pay', 'need', 'help']),\n WordList(['need', 'help', 'need']),\n WordList(['help', 'need', 'help']),\n WordList(['need', 'help', 'need']),\n WordList(['help', 'need', 'help']),\n WordList(['need', 'help', 'hiba']),\n WordList(['help', 'hiba', 'help']),\n WordList(['hiba', 'help', 'need']),\n WordList(['help', 'need', 'person']),\n WordList(['need', 'person', 'need']),\n WordList(['person', 'need', 'help']),\n WordList(['need', 'help', 'many']),\n WordList(['help', 'many', 'licensing']),\n WordList(['many', 'licensing', 'agency']),\n WordList(['licensing', 'agency', 'involved']),\n WordList(['agency', 'involved', '3456']),\n WordList(['involved', '3456', 'find']),\n WordList(['3456', 'find', 'office']),\n WordList(['find', 'office', 'located']),\n WordList(['office', 'located', 'payment']),\n WordList(['located', 'payment', 'accept']),\n WordList(['payment', 'accept', 'talk']),\n WordList(['accept', 'talk', 'live']),\n WordList(['talk', 'live', 'assistant']),\n WordList(['live', 'assistant', 'garrett']),\n WordList(['assistant', 'garrett', 'complete']),\n WordList(['garrett', 'complete', 'acknowledgment']),\n WordList(['complete', 'acknowledgment', 'paternity']),\n WordList(['acknowledgment', 'paternity', 'form']),\n WordList(['paternity', 'form', 'live']),\n WordList(['form', 'live', 'assistant']),\n WordList(['live', 'assistant', 'wont']),\n WordList(['assistant', 'wont', 'able']),\n WordList(['wont', 'able', 'hear']),\n WordList(['able', 'hear', 'phone']),\n WordList(['hear', 'phone', '1234']),\n WordList(['phone', '1234', 'ken']),\n WordList(['1234', 'ken', 'paxton']),\n WordList(['ken', 'paxton', 'live']),\n WordList(['paxton', 'live', 'assistant']),\n WordList(['live', 'assistant', 'live']),\n WordList(['assistant', 'live', 'person']),\n WordList(['live', 'person', 'garrett']),\n WordList(['person', 'garrett', 'located']),\n WordList(['garrett', 'located', 'want']),\n WordList(['located', 'want', 'talk']),\n WordList(['want', 'talk', 'person']),\n WordList(['talk', 'person', 'live']),\n WordList(['person', 'live', 'assistant']),\n WordList(['live', 'assistant', 'zahra']),\n WordList(['assistant', 'zahra', 'pay']),\n WordList(['zahra', 'pay', 'mail']),\n WordList(['pay', 'mail', 'accept']),\n WordList(['mail', 'accept', 'plastic']),\n WordList(['accept', 'plastic', 'accept']),\n WordList(['plastic', 'accept', 'bank']),\n WordList(['accept', 'bank', 'note']),\n WordList(['bank', 'note', '1234']),\n WordList(['note', '1234', 'talk']),\n WordList(['1234', 'talk', 'live']),\n WordList(['talk', 'live', 'assistant']),\n WordList(['live', 'assistant', 'garrett']),\n WordList(['assistant', 'garrett', 'cant']),\n WordList(['garrett', 'cant', 'login']),\n WordList(['cant', 'login', 'csi']),\n WordList(['login', 'csi', 'office']),\n WordList(['csi', 'office', 'help']),\n WordList(['office', 'help', 'havent']),\n WordList(['help', 'havent', 'received']),\n WordList(['havent', 'received', 'child']),\n WordList(['received', 'child', 'support']),\n WordList(['child', 'support', 'pay']),\n WordList(['support', 'pay', 'cash']),\n WordList(['pay', 'cash', 'located']),\n WordList(['cash', 'located', 'hour']),\n WordList(['located', 'hour', 'document']),\n WordList(['hour', 'document', 'needed']),\n WordList(['document', 'needed', 'office']),\n WordList(['needed', 'office', 'attorney']),\n WordList(['office', 'attorney', 'general']),\n WordList(['attorney', 'general', 'child']),\n WordList(['general', 'child', 'support']),\n WordList(['child', 'support', 'issue']),\n WordList(['support', 'issue', 'deaf']),\n WordList(['issue', 'deaf', 'go']),\n WordList(['deaf', 'go', 'communicating']),\n WordList(['go', 'communicating', 'attorney']),\n WordList(['communicating', 'attorney', 'general']),\n WordList(['attorney', 'general', 'office']),\n WordList(['general', 'office', 'person']),\n WordList(['office', 'person', 'longer']),\n WordList(['person', 'longer', 'want']),\n WordList(['longer', 'want', 'office']),\n WordList(['want', 'office', 'attorney']),\n WordList(['office', 'attorney', 'general']),\n WordList(['attorney', 'general', 'service']),\n WordList(['general', 'service', 'im']),\n WordList(['service', 'im', 'deaf']),\n WordList(['im', 'deaf', 'contact']),\n WordList(['deaf', 'contact', 'type']),\n WordList(['contact', 'type', 'license']),\n WordList(['type', 'license', 'usually']),\n WordList(['license', 'usually', 'suspended']),\n WordList(['usually', 'suspended', 'child']),\n WordList(['suspended', 'child', 'support']),\n WordList(['child', 'support', 'changed']),\n WordList(['support', 'changed', 'need']),\n WordList(['changed', 'need', 'volunteer']),\n WordList(['need', 'volunteer', 'garrett']),\n WordList(['volunteer', 'garrett', 'live']),\n WordList(['garrett', 'live', 'agent']),\n WordList(['live', 'agent', 'hour']),\n WordList(['agent', 'hour', 'located']),\n WordList(['hour', 'located', 'located']),\n WordList(['located', 'located', 'hour']),\n WordList(['located', 'hour', 'helen']),\n WordList(['hour', 'helen', 'hour']),\n WordList(['helen', 'hour', 'father']),\n WordList(['hour', 'father', 'live']),\n WordList(['father', 'live', 'texas']),\n WordList(['live', 'texas', 'located']),\n WordList(['texas', 'located', 'late']),\n WordList(['located', 'late', 'payment']),\n WordList(['late', 'payment', 'requirement']),\n WordList(['payment', 'requirement', 'located']),\n WordList(['requirement', 'located', 'payment']),\n WordList(['located', 'payment', 'accept']),\n WordList(['payment', 'accept', 'pay']),\n WordList(['accept', 'pay', 'credit']),\n WordList(['pay', 'credit', 'garrett']),\n WordList(['credit', 'garrett', 'get']),\n WordList(['garrett', 'get', 'pin']),\n WordList(['get', 'pin', 'pay']),\n WordList(['pin', 'pay', 'accept']),\n WordList(['pay', 'accept', 'plastic']),\n WordList(['accept', 'plastic', 'accept']),\n WordList(['plastic', 'accept', 'bank']),\n WordList(['accept', 'bank', 'note']),\n WordList(['bank', 'note', 'contact']),\n WordList(['note', 'contact', 'need']),\n WordList(['contact', 'need', 'cin']),\n WordList(['need', 'cin', 'cant']),\n WordList(['cin', 'cant', 'login']),\n WordList(['cant', 'login', 'csi']),\n WordList(['login', 'csi', 'accept']),\n WordList(['csi', 'accept', 'bank']),\n WordList(['accept', 'bank', 'note']),\n WordList(['bank', 'note', 'need']),\n WordList(['note', 'need', 'help']),\n WordList(['need', 'help', 'child']),\n WordList(['help', 'child', 'support']),\n WordList(['child', 'support', 'interactive']),\n WordList(['support', 'interactive', 'determines']),\n WordList(['interactive', 'determines', 'paternity']),\n WordList(['determines', 'paternity', 'child']),\n WordList(['paternity', 'child', 'support']),\n WordList(['child', 'support', 'issue']),\n WordList(['support', 'issue', 'deaf']),\n WordList(['issue', 'deaf', 'go']),\n WordList(['deaf', 'go', 'communicating']),\n WordList(['go', 'communicating', 'attorney']),\n WordList(['communicating', 'attorney', 'general']),\n WordList(['attorney', 'general', 'office']),\n WordList(['general', 'office', 'information']),\n WordList(['office', 'information', 'office']),\n WordList(['information', 'office', 'attorney']),\n WordList(['office', 'attorney', 'general']),\n WordList(['attorney', 'general', 'need']),\n WordList(['general', 'need', 'locate']),\n WordList(['need', 'locate', 'noncustodial']),\n WordList(['locate', 'noncustodial', 'parent']),\n WordList(['noncustodial', 'parent', 'child']),\n WordList(['parent', 'child', 'support']),\n WordList(['child', 'support', 'issue']),\n WordList(['support', 'issue', 'deaf']),\n WordList(['issue', 'deaf', 'go']),\n WordList(['deaf', 'go', 'communicating']),\n WordList(['go', 'communicating', 'attorney']),\n WordList(['communicating', 'attorney', 'general']),\n WordList(['attorney', 'general', 'office']),\n WordList(['general', 'office', 'contact']),\n WordList(['office', 'contact', 'number']),\n WordList(['contact', 'number', 'whats']),\n WordList(['number', 'whats', 'child']),\n WordList(['whats', 'child', 'support']),\n WordList(['child', 'support', 'contact']),\n WordList(['support', 'contact', 'number']),\n WordList(['contact', 'number', 'contact']),\n WordList(['number', 'contact', 'number']),\n WordList(['contact', 'number', 'contact']),\n WordList(['number', 'contact', 'number']),\n WordList(['contact', 'number', 'contact']),\n WordList(['number', 'contact', 'number']),\n WordList(['contact', 'number', 'pay']),\n WordList(['number', 'pay', 'mail']),\n WordList(['pay', 'mail', 'contact']),\n WordList(['mail', 'contact', 'number']),\n WordList(['contact', 'number', 'child']),\n WordList(['number', 'child', 'support']),\n WordList(['child', 'support', 'issue']),\n WordList(['support', 'issue', 'deaf']),\n WordList(['issue', 'deaf', 'child']),\n WordList(['deaf', 'child', 'support']),\n WordList(['child', 'support', 'issue']),\n WordList(['support', 'issue', 'deaf']),\n WordList(['issue', 'deaf', 'go']),\n WordList(['deaf', 'go', 'communicating']),\n WordList(['go', 'communicating', 'attorney']),\n WordList(['communicating', 'attorney', 'general']),\n WordList(['attorney', 'general', 'office']),\n WordList(['general', 'office', 'open']),\n WordList(['office', 'open', 'live']),\n WordList(['open', 'live', 'assistant']),\n WordList(['live', 'assistant', 'please']),\n WordList(['assistant', 'please', 'long']),\n WordList(['please', 'long', 'payment']),\n WordList(['long', 'payment', 'begin']),\n WordList(['payment', 'begin', 'open']),\n WordList(['begin', 'open', 'payment']),\n WordList(['open', 'payment', 'accept']),\n WordList(['payment', 'accept', 'live']),\n WordList(['accept', 'live', 'agent']),\n WordList(['live', 'agent', 'accept']),\n WordList(['agent', 'accept', 'bank']),\n WordList(['accept', 'bank', 'note']),\n WordList(['bank', 'note', 'pay']),\n WordList(['note', 'pay', 'need']),\n WordList(['pay', 'need', 'help']),\n WordList(['need', 'help', 'child']),\n WordList(['help', 'child', 'support']),\n WordList(['child', 'support', 'interactive']),\n WordList(['support', 'interactive', 'hour']),\n WordList(['interactive', 'hour', 'accept']),\n WordList(['hour', 'accept', 'plastic']),\n WordList(['accept', 'plastic', 'pay']),\n WordList(['plastic', 'pay', 'need']),\n WordList(['pay', 'need', 'help']),\n WordList(['need', 'help', 'child']),\n WordList(['help', 'child', 'support']),\n WordList(['child', 'support', 'interactive']),\n WordList(['support', 'interactive', 'cant']),\n WordList(['interactive', 'cant', 'login']),\n WordList(['cant', 'login', 'csi']),\n WordList(['login', 'csi', 'accept']),\n WordList(['csi', 'accept', 'bank']),\n WordList(['accept', 'bank', 'note']),\n WordList(['bank', 'note', 'pay']),\n WordList(['note', 'pay', 'credit']),\n WordList(['pay', 'credit', 'card']),\n WordList(['credit', 'card', 'cant']),\n WordList(['card', 'cant', 'login']),\n WordList(['cant', 'login', 'csi']),\n WordList(['login', 'csi', 'cant']),\n WordList(['csi', 'cant', 'hear']),\n WordList(['cant', 'hear', 'phone']),\n WordList(['hear', 'phone', 'live']),\n WordList(['phone', 'live', 'agent']),\n WordList(['live', 'agent', 'apply']),\n WordList(['agent', 'apply', 'child']),\n WordList(['apply', 'child', 'support']),\n WordList(['child', 'support', 'service']),\n WordList(['support', 'service', 'fee']),\n WordList(['service', 'fee', 'pay']),\n WordList(['fee', 'pay', 'installment']),\n WordList(['pay', 'installment', 'log']),\n WordList(['installment', 'log', 'dont']),\n WordList(['log', 'dont', 'want']),\n WordList(['dont', 'want', 'live']),\n WordList(['want', 'live', 'agent']),\n WordList(['live', 'agent', 'want']),\n WordList(['agent', 'want', 'talk']),\n WordList(['want', 'talk', 'ken']),\n WordList(['talk', 'ken', 'paxton']),\n WordList(['ken', 'paxton', 'hour']),\n WordList(['paxton', 'hour', 'dont']),\n WordList(['hour', 'dont', 'want']),\n WordList(['dont', 'want', 'pay']),\n WordList(['want', 'pay', 'want']),\n WordList(['pay', 'want', 'come']),\n WordList(['want', 'come', 'person']),\n WordList(['come', 'person', 'zahra']),\n WordList(['person', 'zahra', 'need']),\n WordList(['zahra', 'need', 'help']),\n WordList(['need', 'help', 'want']),\n WordList(['help', 'want', 'real']),\n WordList(['want', 'real', 'person']),\n WordList(['real', 'person', 'zahra']),\n WordList(['person', 'zahra', 'pay']),\n WordList(['zahra', 'pay', 'amex']),\n WordList(['pay', 'amex', 'sam']),\n WordList(['amex', 'sam', 'azhar']),\n WordList(['sam', 'azhar', 'pay']),\n WordList(['azhar', 'pay', 'child']),\n WordList(['pay', 'child', 'support']),\n WordList(['child', 'support', 'live']),\n WordList(['support', 'live', 'agent']),\n WordList(['live', 'agent', 'pay']),\n WordList(['agent', 'pay', 'cash']),\n WordList(['pay', 'cash', 'cant']),\n WordList(['cash', 'cant', 'hear']),\n WordList(['cant', 'hear', 'phon']),\n WordList(['hear', 'phon', 'located']),\n WordList(['phon', 'located', 'dont']),\n WordList(['located', 'dont', 'want']),\n WordList(['dont', 'want', 'pay']),\n WordList(['want', 'pay', 'want']),\n WordList(['pay', 'want', 'contest']),\n WordList(['want', 'contest', 'paymebt']),\n WordList(['contest', 'paymebt', 'dont']),\n WordList(['paymebt', 'dont', 'want']),\n WordList(['dont', 'want', 'pay']),\n WordList(['want', 'pay', 'bill']),\n WordList(['pay', 'bill', 'want']),\n WordList(['bill', 'want', 'contest']),\n WordList(['want', 'contest', 'payment']),\n WordList(['contest', 'payment', 'live']),\n WordList(['payment', 'live', 'assistant']),\n WordList(['live', 'assistant', 'live']),\n WordList(['assistant', 'live', 'assistatnt']),\n WordList(['live', 'assistatnt', 'login']),\n WordList(['assistatnt', 'login', 'payment']),\n WordList(['login', 'payment', 'accept']),\n WordList(['payment', 'accept', 'pay']),\n WordList(['accept', 'pay', 'pay']),\n WordList(['pay', 'pay', 'credit']),\n WordList(['pay', 'credit', 'card']),\n WordList(['credit', 'card', 'cant']),\n WordList(['card', 'cant', 'hear']),\n WordList(['cant', 'hear', 'phone']),\n WordList(['hear', 'phone', 'need']),\n WordList(['phone', 'need', 'contact']),\n WordList(['need', 'contact', 'child']),\n WordList(['contact', 'child', 'support']),\n WordList(['child', 'support', 'hour']),\n WordList(['support', 'hour', 'pay']),\n WordList(['hour', 'pay', 'spouse']),\n WordList(['pay', 'spouse', 'wont']),\n WordList(['spouse', 'wont', 'pay']),\n WordList(['wont', 'pay', 'child']),\n WordList(['pay', 'child', 'support']),\n WordList(['child', 'support', 'child']),\n WordList(['support', 'child', 'support']),\n WordList(['child', 'support', 'pay']),\n WordList(['support', 'pay', 'mail']),\n WordList(['pay', 'mail', '1234']),\n WordList(['mail', '1234', 'get']),\n WordList(['1234', 'get', 'started']),\n WordList(['get', 'started', 'child']),\n WordList(['started', 'child', 'support']),\n WordList(['child', 'support', 'process']),\n WordList(['support', 'process', 'im']),\n WordList(['process', 'im', 'get']),\n WordList(['im', 'get', 'divorce']),\n WordList(['get', 'divorce', 'determine']),\n WordList(['divorce', 'determine', 'need']),\n WordList(['determine', 'need', 'pay']),\n WordList(['need', 'pay', 'child']),\n WordList(['pay', 'child', 'support']),\n WordList(['child', 'support', 'contact']),\n WordList(['support', 'contact', 'located']),\n WordList(['contact', 'located', 'im']),\n WordList(['located', 'im', 'getting']),\n WordList(['im', 'getting', 'divorce']),\n WordList(['getting', 'divorce', 'owe']),\n WordList(['divorce', 'owe', 'child']),\n WordList(['owe', 'child', 'support']),\n WordList(['child', 'support', 'divorced']),\n WordList(['support', 'divorced', 'know']),\n WordList(['divorced', 'know', 'qualify']),\n WordList(['know', 'qualify', 'age']),\n WordList(['qualify', 'age', 'minimum']),\n WordList(['age', 'minimum', 'qualify']),\n WordList(['minimum', 'qualify', 'tanf']),\n WordList(['qualify', 'tanf', 'recipient']),\n WordList(['tanf', 'recipient', 'seek']),\n WordList(['recipient', 'seek', 'child']),\n WordList(['seek', 'child', 'support']),\n WordList(['child', 'support', 'pay']),\n WordList(['support', 'pay', 'credit']),\n WordList(['pay', 'credit', 'card']),\n WordList(['credit', 'card', 'pay']),\n WordList(['card', 'pay', 'cant']),\n WordList(['pay', 'cant', 'login']),\n WordList(['cant', 'login', 'hello']),\n WordList(['login', 'hello', 'determines']),\n WordList(['hello', 'determines', 'paternity']),\n WordList(['determines', 'paternity', 'find']),\n WordList(['paternity', 'find', 'office']),\n WordList(['find', 'office', 'region']),\n WordList(['office', 'region', 'child']),\n WordList(['region', 'child', 'support']),\n WordList(['child', 'support', 'issue']),\n WordList(['support', 'issue', 'deaf']),\n WordList(['issue', 'deaf', 'go']),\n WordList(['deaf', 'go', 'communicating']),\n WordList(['go', 'communicating', 'attorney']),\n WordList(['communicating', 'attorney', 'general']),\n WordList(['attorney', 'general', 'office']),\n WordList(['general', 'office', 'located']),\n WordList(['office', 'located', 'person']),\n WordList(['located', 'person', 'longer']),\n WordList(['person', 'longer', 'want']),\n WordList(['longer', 'want', 'office']),\n WordList(['want', 'office', 'attorney']),\n WordList(['office', 'attorney', 'general']),\n WordList(['attorney', 'general', 'service']),\n WordList(['general', 'service', 'child']),\n WordList(['service', 'child', 'support']),\n WordList(['child', 'support', 'issue']),\n WordList(['support', 'issue', 'deaf']),\n WordList(['issue', 'deaf', 'go']),\n WordList(['deaf', 'go', 'communicating']),\n WordList(['go', 'communicating', 'attorney']),\n WordList(['communicating', 'attorney', 'general']),\n WordList(['attorney', 'general', 'office']),\n WordList(['general', 'office', 'garrett']),\n WordList(['office', 'garrett', 'talk']),\n WordList(['garrett', 'talk', 'live']),\n WordList(['talk', 'live', 'agent']),\n WordList(['live', 'agent', 'office']),\n WordList(['agent', 'office', 'near'])]"
                    }, 
                    "metadata": {}
                }
            ], 
            "metadata": {}
        }, 
        {
            "source": "#DEBUG\n#df_annotated_data_lem", 
            "cell_type": "code", 
            "execution_count": 1, 
            "outputs": [], 
            "metadata": {}
        }, 
        {
            "source": "#importing the function\nfrom sklearn.feature_extraction.text import CountVectorizer\n\n# create the transform\nvectorizer = CountVectorizer(ngram_range=(3,3))\n# tokenizing\nvectorizer.fit(df_annotated_data_lem['utterance_text'])\n# encode document\nvector = vectorizer.transform(df_annotated_data_lem['utterance_text'])\n# summarize & generating output\nprint(vectorizer.vocabulary_)\nprint(vector.toarray())\n", 
            "cell_type": "code", 
            "execution_count": 22, 
            "outputs": [
                {
                    "output_type": "stream", 
                    "name": "stdout", 
                    "text": "{'start process child': 73, 'process child support': 68, 'mother sure father': 56, 'cant hear phone': 10, 'parent take custody': 64, 'take custody child': 78, 'custody child instead': 23, 'child instead making': 12, 'instead making child': 46, 'making child support': 54, 'child support payment': 17, 'agency handle child': 4, 'handle child support': 39, 'child support enforcement': 14, 'support enforcement case': 75, 'child support issue': 16, 'support issue deaf': 76, 'issue deaf go': 47, 'deaf go communicating': 24, 'go communicating attorney': 38, 'communicating attorney general': 20, 'attorney general office': 7, 'pay credit card': 66, 'cant login csi': 11, 'dont take amex': 30, 'want contest payment': 86, 'dont want pay': 32, 'many licensing agency': 55, 'licensing agency involved': 49, 'talk live assistant': 81, 'complete acknowledgment paternity': 21, 'acknowledgment paternity form': 2, 'wont able hear': 94, 'able hear phone': 0, 'want talk person': 92, 'accept bank note': 1, 'havent received child': 40, 'received child support': 69, 'document needed office': 29, 'needed office attorney': 61, 'office attorney general': 62, 'person longer want': 67, 'longer want office': 53, 'want office attorney': 88, 'attorney general service': 8, 'im deaf contact': 42, 'type license usually': 83, 'license usually suspended': 48, 'child support changed': 13, 'father live texas': 33, 'need help child': 58, 'help child support': 41, 'child support interactive': 15, 'information office attorney': 45, 'attorney general need': 6, 'general need locate': 34, 'need locate noncustodial': 59, 'locate noncustodial parent': 51, 'whats child support': 93, 'live assistant please': 50, 'long payment begin': 52, 'apply child support': 5, 'child support service': 19, 'support service fee': 77, 'dont want live': 31, 'want live agent': 87, 'want talk ken': 91, 'talk ken paxton': 79, 'want come person': 84, 'want real person': 90, 'pay child support': 65, 'cant hear phon': 9, 'want contest paymebt': 85, 'want pay bill': 89, 'need contact child': 57, 'contact child support': 22, 'spouse wont pay': 72, 'wont pay child': 95, 'get started child': 36, 'started child support': 74, 'child support process': 18, 'im get divorce': 43, 'get divorce determine': 35, 'divorce determine need': 26, 'determine need pay': 25, 'need pay child': 60, 'im getting divorce': 44, 'getting divorce owe': 37, 'divorce owe child': 27, 'owe child support': 63, 'divorced know qualify': 28, 'age minimum qualify': 3, 'tanf recipient seek': 82, 'recipient seek child': 70, 'seek child support': 71, 'talk live agent': 80}\n[[0 0 0 ... 0 0 0]\n [0 0 0 ... 0 0 0]\n [0 0 0 ... 0 0 0]\n ...\n [0 0 0 ... 0 0 0]\n [0 0 0 ... 0 0 0]\n [0 0 0 ... 0 0 0]]\n"
                }
            ], 
            "metadata": {}
        }, 
        {
            "source": "### TF-IDF\n\nTerm frequency : Ratio of the count of a word to the length of the sentence.\n\nInverse Document Frequency: log of the ratio of the total number of rows where a word is present.\n\ntldr;\n\nIDF : rareness of a term\n", 
            "cell_type": "markdown", 
            "metadata": {}
        }, 
        {
            "source": "from sklearn.feature_extraction.text import TfidfTransformer\nfrom sklearn.feature_extraction.text import CountVectorizer\n#instantiate CountVectorizer()\ncv=CountVectorizer()\n \n# this steps generates word counts for the words in your docs\nword_count_vector=cv.fit_transform(df_annotated_data_lem['utterance_text'])", 
            "cell_type": "code", 
            "execution_count": 23, 
            "outputs": [], 
            "metadata": {}
        }, 
        {
            "source": "word_count_vector.shape", 
            "cell_type": "code", 
            "execution_count": 24, 
            "outputs": [
                {
                    "execution_count": 24, 
                    "output_type": "execute_result", 
                    "data": {
                        "text/plain": "(193, 130)"
                    }, 
                    "metadata": {}
                }
            ], 
            "metadata": {}
        }, 
        {
            "source": "tfidf_transformer=TfidfTransformer(smooth_idf=True,use_idf=True)\ntfidf_transformer.fit(word_count_vector)", 
            "cell_type": "code", 
            "execution_count": 25, 
            "outputs": [
                {
                    "execution_count": 25, 
                    "output_type": "execute_result", 
                    "data": {
                        "text/plain": "TfidfTransformer(norm='l2', smooth_idf=True, sublinear_tf=False, use_idf=True)"
                    }, 
                    "metadata": {}
                }
            ], 
            "metadata": {}
        }, 
        {
            "source": "#### The lower the IDF value of a word, the less unique it is to any particular document.", 
            "cell_type": "markdown", 
            "metadata": {}
        }, 
        {
            "source": "# print idf values\ndf_idf = pd.DataFrame(tfidf_transformer.idf_, index=cv.get_feature_names(),columns=[\"tf_idf_weights\"])\n \n# sort ascending\ndf_idf.sort_values(by=['tf_idf_weights'])", 
            "cell_type": "code", 
            "execution_count": 27, 
            "outputs": [
                {
                    "execution_count": 27, 
                    "output_type": "execute_result", 
                    "data": {
                        "text/plain": "               tf_idf_weights\npay                  2.900562\nchild                2.935654\nsupport              2.935654\nlive                 3.434645\nneed                 3.495269\noffice               3.495269\nwant                 3.559808\ncontact              3.559808\naccept               3.628801\ngeneral              3.782952\nattorney             3.782952\ncant                 3.869963\nhelp                 3.869963\nnumber               3.869963\nlocated              3.869963\npayment              3.965273\ndeaf                 3.965273\nperson               4.070634\nissue                4.070634\nlogin                4.070634\ncommunicating        4.188417\nhour                 4.188417\ngo                   4.188417\nassistant            4.188417\ndont                 4.321948\ngarrett              4.321948\nagent                4.321948\nnote                 4.476099\ncredit               4.476099\ncsi                  4.476099\n...                       ...\ninformation          5.574711\nknow                 5.574711\nlate                 5.574711\nlicense              5.574711\nlicensing            5.574711\nlocate               5.574711\ncomplete             5.574711\nlog                  5.574711\ncome                 5.574711\nlong                 5.574711\nhiba                 5.574711\nmaking               5.574711\nmany                 5.574711\nminimum              5.574711\ndocument             5.574711\nbegin                5.574711\nhelen                5.574711\nowe                  5.574711\nhello                5.574711\nonline               5.574711\npaymebt              5.574711\nbill                 5.574711\ndivorced             5.574711\nnoncustodial         5.574711\nneeded               5.574711\nchanged              5.574711\nnear                 5.574711\nmother               5.574711\nform                 5.574711\ncase                 5.574711\n\n[130 rows x 1 columns]", 
                        "text/html": "<div>\n<style scoped>\n    .dataframe tbody tr th:only-of-type {\n        vertical-align: middle;\n    }\n\n    .dataframe tbody tr th {\n        vertical-align: top;\n    }\n\n    .dataframe thead th {\n        text-align: right;\n    }\n</style>\n<table border=\"1\" class=\"dataframe\">\n  <thead>\n    <tr style=\"text-align: right;\">\n      <th></th>\n      <th>tf_idf_weights</th>\n    </tr>\n  </thead>\n  <tbody>\n    <tr>\n      <th>pay</th>\n      <td>2.900562</td>\n    </tr>\n    <tr>\n      <th>child</th>\n      <td>2.935654</td>\n    </tr>\n    <tr>\n      <th>support</th>\n      <td>2.935654</td>\n    </tr>\n    <tr>\n      <th>live</th>\n      <td>3.434645</td>\n    </tr>\n    <tr>\n      <th>need</th>\n      <td>3.495269</td>\n    </tr>\n    <tr>\n      <th>office</th>\n      <td>3.495269</td>\n    </tr>\n    <tr>\n      <th>want</th>\n      <td>3.559808</td>\n    </tr>\n    <tr>\n      <th>contact</th>\n      <td>3.559808</td>\n    </tr>\n    <tr>\n      <th>accept</th>\n      <td>3.628801</td>\n    </tr>\n    <tr>\n      <th>general</th>\n      <td>3.782952</td>\n    </tr>\n    <tr>\n      <th>attorney</th>\n      <td>3.782952</td>\n    </tr>\n    <tr>\n      <th>cant</th>\n      <td>3.869963</td>\n    </tr>\n    <tr>\n      <th>help</th>\n      <td>3.869963</td>\n    </tr>\n    <tr>\n      <th>number</th>\n      <td>3.869963</td>\n    </tr>\n    <tr>\n      <th>located</th>\n      <td>3.869963</td>\n    </tr>\n    <tr>\n      <th>payment</th>\n      <td>3.965273</td>\n    </tr>\n    <tr>\n      <th>deaf</th>\n      <td>3.965273</td>\n    </tr>\n    <tr>\n      <th>person</th>\n      <td>4.070634</td>\n    </tr>\n    <tr>\n      <th>issue</th>\n      <td>4.070634</td>\n    </tr>\n    <tr>\n      <th>login</th>\n      <td>4.070634</td>\n    </tr>\n    <tr>\n      <th>communicating</th>\n      <td>4.188417</td>\n    </tr>\n    <tr>\n      <th>hour</th>\n      <td>4.188417</td>\n    </tr>\n    <tr>\n      <th>go</th>\n      <td>4.188417</td>\n    </tr>\n    <tr>\n      <th>assistant</th>\n      <td>4.188417</td>\n    </tr>\n    <tr>\n      <th>dont</th>\n      <td>4.321948</td>\n    </tr>\n    <tr>\n      <th>garrett</th>\n      <td>4.321948</td>\n    </tr>\n    <tr>\n      <th>agent</th>\n      <td>4.321948</td>\n    </tr>\n    <tr>\n      <th>note</th>\n      <td>4.476099</td>\n    </tr>\n    <tr>\n      <th>credit</th>\n      <td>4.476099</td>\n    </tr>\n    <tr>\n      <th>csi</th>\n      <td>4.476099</td>\n    </tr>\n    <tr>\n      <th>...</th>\n      <td>...</td>\n    </tr>\n    <tr>\n      <th>information</th>\n      <td>5.574711</td>\n    </tr>\n    <tr>\n      <th>know</th>\n      <td>5.574711</td>\n    </tr>\n    <tr>\n      <th>late</th>\n      <td>5.574711</td>\n    </tr>\n    <tr>\n      <th>license</th>\n      <td>5.574711</td>\n    </tr>\n    <tr>\n      <th>licensing</th>\n      <td>5.574711</td>\n    </tr>\n    <tr>\n      <th>locate</th>\n      <td>5.574711</td>\n    </tr>\n    <tr>\n      <th>complete</th>\n      <td>5.574711</td>\n    </tr>\n    <tr>\n      <th>log</th>\n      <td>5.574711</td>\n    </tr>\n    <tr>\n      <th>come</th>\n      <td>5.574711</td>\n    </tr>\n    <tr>\n      <th>long</th>\n      <td>5.574711</td>\n    </tr>\n    <tr>\n      <th>hiba</th>\n      <td>5.574711</td>\n    </tr>\n    <tr>\n      <th>making</th>\n      <td>5.574711</td>\n    </tr>\n    <tr>\n      <th>many</th>\n      <td>5.574711</td>\n    </tr>\n    <tr>\n      <th>minimum</th>\n      <td>5.574711</td>\n    </tr>\n    <tr>\n      <th>document</th>\n      <td>5.574711</td>\n    </tr>\n    <tr>\n      <th>begin</th>\n      <td>5.574711</td>\n    </tr>\n    <tr>\n      <th>helen</th>\n      <td>5.574711</td>\n    </tr>\n    <tr>\n      <th>owe</th>\n      <td>5.574711</td>\n    </tr>\n    <tr>\n      <th>hello</th>\n      <td>5.574711</td>\n    </tr>\n    <tr>\n      <th>online</th>\n      <td>5.574711</td>\n    </tr>\n    <tr>\n      <th>paymebt</th>\n      <td>5.574711</td>\n    </tr>\n    <tr>\n      <th>bill</th>\n      <td>5.574711</td>\n    </tr>\n    <tr>\n      <th>divorced</th>\n      <td>5.574711</td>\n    </tr>\n    <tr>\n      <th>noncustodial</th>\n      <td>5.574711</td>\n    </tr>\n    <tr>\n      <th>needed</th>\n      <td>5.574711</td>\n    </tr>\n    <tr>\n      <th>changed</th>\n      <td>5.574711</td>\n    </tr>\n    <tr>\n      <th>near</th>\n      <td>5.574711</td>\n    </tr>\n    <tr>\n      <th>mother</th>\n      <td>5.574711</td>\n    </tr>\n    <tr>\n      <th>form</th>\n      <td>5.574711</td>\n    </tr>\n    <tr>\n      <th>case</th>\n      <td>5.574711</td>\n    </tr>\n  </tbody>\n</table>\n<p>130 rows \u00d7 1 columns</p>\n</div>"
                    }, 
                    "metadata": {}
                }
            ], 
            "metadata": {}
        }, 
        {
            "source": "# count matrix\ncount_vector=cv.transform(df_annotated_data_lem['utterance_text'])\n \n# tf-idf scores\ntf_idf_vector=tfidf_transformer.transform(count_vector)", 
            "cell_type": "code", 
            "execution_count": 28, 
            "outputs": [], 
            "metadata": {}
        }, 
        {
            "source": "#### How important a word is based off user input.", 
            "cell_type": "markdown", 
            "metadata": {}
        }, 
        {
            "source": "feature_names = cv.get_feature_names()\n \n#get tfidf vector for first document\nfirst_document_vector=tf_idf_vector[0]\n \n#print the scores\ndf = pd.DataFrame(first_document_vector.T.todense(), index=feature_names, columns=[\"tfidf\"])\ndf.sort_values(by=[\"tfidf\"],ascending=False).head(5)", 
            "cell_type": "code", 
            "execution_count": 29, 
            "outputs": [
                {
                    "execution_count": 29, 
                    "output_type": "execute_result", 
                    "data": {
                        "text/plain": "            tfidf\nstart    0.643564\nprocess  0.596755\nsupport  0.338902\nchild    0.338902\n1234     0.000000", 
                        "text/html": "<div>\n<style scoped>\n    .dataframe tbody tr th:only-of-type {\n        vertical-align: middle;\n    }\n\n    .dataframe tbody tr th {\n        vertical-align: top;\n    }\n\n    .dataframe thead th {\n        text-align: right;\n    }\n</style>\n<table border=\"1\" class=\"dataframe\">\n  <thead>\n    <tr style=\"text-align: right;\">\n      <th></th>\n      <th>tfidf</th>\n    </tr>\n  </thead>\n  <tbody>\n    <tr>\n      <th>start</th>\n      <td>0.643564</td>\n    </tr>\n    <tr>\n      <th>process</th>\n      <td>0.596755</td>\n    </tr>\n    <tr>\n      <th>support</th>\n      <td>0.338902</td>\n    </tr>\n    <tr>\n      <th>child</th>\n      <td>0.338902</td>\n    </tr>\n    <tr>\n      <th>1234</th>\n      <td>0.000000</td>\n    </tr>\n  </tbody>\n</table>\n</div>"
                    }, 
                    "metadata": {}
                }
            ], 
            "metadata": {}
        }, 
        {
            "source": "Much of the more advanced NLP is done in watson assistant for you. e.g. Determining what are the nouns in the phrase and confidence it can answer the question. After running this notebook, we can run ", 
            "cell_type": "markdown", 
            "metadata": {}
        }
    ], 
    "nbformat": 4, 
    "metadata": {
        "kernelspec": {
            "display_name": "Python 3.6", 
            "name": "python3", 
            "language": "python"
        }, 
        "language_info": {
            "mimetype": "text/x-python", 
            "nbconvert_exporter": "python", 
            "version": "3.6.8", 
            "name": "python", 
            "pygments_lexer": "ipython3", 
            "file_extension": ".py", 
            "codemirror_mode": {
                "version": 3, 
                "name": "ipython"
            }
        }
    }
}